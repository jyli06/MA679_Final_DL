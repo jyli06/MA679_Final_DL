{
 "cells": [
  {
   "cell_type": "code",
   "execution_count": 14,
   "id": "e9921dc0",
   "metadata": {},
   "outputs": [],
   "source": [
    "import numpy as np\n",
    "import pandas as pd\n",
    "import random\n",
    "from pandas import read_csv\n",
    "from tensorflow.keras import datasets, layers, models\n",
    "from tensorflow.keras.models import Model, Sequential\n",
    "from keras.layers import Input, Dense, Conv2D, MaxPooling2D, UpSampling2D\n",
    "from keras.layers import Flatten\n",
    "from keras.layers import Dropout\n",
    "from keras.layers.convolutional import Conv1D\n",
    "from keras.layers.convolutional import MaxPooling1D\n",
    "import matplotlib.pyplot as plt\n",
    "from keras.callbacks import EarlyStopping\n",
    "from keras.callbacks import ModelCheckpoint\n",
    "from sklearn.model_selection import train_test_split\n",
    "\n",
    "import scipy.io\n",
    "\n",
    "def make_windows(\n",
    "  arr,\n",
    "  win_size,\n",
    "  step_size,\n",
    "):\n",
    "  w_list = list()\n",
    "  n_records = arr.shape[0]\n",
    "  remainder = (n_records - win_size) % step_size \n",
    "  num_windows = 1 + int((n_records - win_size - remainder) / step_size)\n",
    "  for k in range(num_windows):\n",
    "    w_list.append(arr[k*step_size:win_size-1+k*step_size+1])\n",
    "  return np.array(w_list)\n",
    "\n",
    "def load_file(filepath):\n",
    "    dataframe = read_csv(filepath, header = None)\n",
    "    return dataframe.values"
   ]
  },
  {
   "cell_type": "code",
   "execution_count": 3,
   "id": "2ae833f4",
   "metadata": {},
   "outputs": [],
   "source": [
    "mat      = scipy.io.loadmat('binned_zscore.mat') \n",
    "Behavior = scipy.io.loadmat('binned_behavior.mat')"
   ]
  },
  {
   "cell_type": "code",
   "execution_count": 4,
   "id": "02e2ab8b",
   "metadata": {},
   "outputs": [
    {
     "name": "stdout",
     "output_type": "stream",
     "text": [
      "(110, 6184)\n",
      "(2, 6184)\n"
     ]
    }
   ],
   "source": [
    "zscore = pd.DataFrame(mat['binned_zscore']).T.values\n",
    "behavior = pd.DataFrame(Behavior['binned_behavior']).values\n",
    "\n",
    "drop_index = np.where((behavior[0, :] + behavior[1, :]) == 0)\n",
    "zscore = np.delete(zscore, drop_index, axis = 1)\n",
    "behavior = np.delete(behavior, drop_index, axis = 1)\n",
    "print(zscore.shape)\n",
    "print(behavior.shape)"
   ]
  },
  {
   "cell_type": "code",
   "execution_count": 5,
   "id": "da360c4b",
   "metadata": {},
   "outputs": [
    {
     "data": {
      "text/plain": [
       "(6180, 110, 5)"
      ]
     },
     "execution_count": 5,
     "metadata": {},
     "output_type": "execute_result"
    }
   ],
   "source": [
    "tr_zscore = []\n",
    "for i in range(110):\n",
    "    tr_zscore.append(make_windows(zscore[i, :], 5, 1))\n",
    "tr_zscore = np.asarray(tr_zscore)\n",
    "window_zscore = []\n",
    "for i in range(6180):\n",
    "    window_zscore.append(tr_zscore[:, i, :])\n",
    "window_zscore = np.asarray(window_zscore)\n",
    "window_zscore.shape"
   ]
  },
  {
   "cell_type": "code",
   "execution_count": 6,
   "id": "8d85e00f",
   "metadata": {},
   "outputs": [],
   "source": [
    "behavior = np.delete(behavior, range(4), axis = 1)\n",
    "window_behavior = np.zeros((6180))\n",
    "for i in range(6180):\n",
    "    if behavior[0, i] == 1:\n",
    "        window_behavior[i] = 1\n",
    "    else:\n",
    "        window_behavior[i] = 0"
   ]
  },
  {
   "cell_type": "code",
   "execution_count": 7,
   "id": "0608d627",
   "metadata": {},
   "outputs": [],
   "source": [
    "index0 = np.where(window_behavior == 0)\n",
    "index1 = np.where(window_behavior == 1)"
   ]
  },
  {
   "cell_type": "code",
   "execution_count": 8,
   "id": "b786a47a",
   "metadata": {},
   "outputs": [
    {
     "name": "stdout",
     "output_type": "stream",
     "text": [
      "1535\n",
      "4645\n"
     ]
    }
   ],
   "source": [
    "print(len(index0[0]))\n",
    "print(len(index1[0]))"
   ]
  },
  {
   "cell_type": "code",
   "execution_count": 9,
   "id": "7e009cd5",
   "metadata": {},
   "outputs": [],
   "source": [
    "window_zscore   = np.delete(window_zscore  , 6179, axis = 0)\n",
    "window_behavior = np.delete(window_behavior, 0   , axis = 0)"
   ]
  },
  {
   "cell_type": "code",
   "execution_count": 10,
   "id": "163c141f",
   "metadata": {},
   "outputs": [
    {
     "name": "stdout",
     "output_type": "stream",
     "text": [
      "(6179, 110, 5)\n",
      "(6179,)\n"
     ]
    }
   ],
   "source": [
    "print(window_zscore  .shape)\n",
    "print(window_behavior.shape)"
   ]
  },
  {
   "cell_type": "markdown",
   "id": "1d77cf58",
   "metadata": {},
   "source": [
    "# Model Build: 1D CNN "
   ]
  },
  {
   "cell_type": "code",
   "execution_count": 11,
   "id": "31adbc4d",
   "metadata": {},
   "outputs": [
    {
     "name": "stdout",
     "output_type": "stream",
     "text": [
      "(4325, 110, 5)\n",
      "(4325,)\n"
     ]
    }
   ],
   "source": [
    "X_train, X_test, Y_train, Y_test = train_test_split(window_zscore, window_behavior, test_size = 0.3, random_state = 1)\n",
    "print(X_train.shape)\n",
    "print(Y_train.shape)"
   ]
  },
  {
   "cell_type": "code",
   "execution_count": 15,
   "id": "100d9152",
   "metadata": {},
   "outputs": [
    {
     "name": "stdout",
     "output_type": "stream",
     "text": [
      "Model: \"model_1\"\n",
      "_________________________________________________________________\n",
      " Layer (type)                Output Shape              Param #   \n",
      "=================================================================\n",
      " conv1d_3_input (InputLayer)  [(None, 110, 5)]         0         \n",
      "                                                                 \n",
      " conv1d_3 (Conv1D)           (None, 108, 128)          2048      \n",
      "                                                                 \n",
      " max_pooling1d_3 (MaxPooling  (None, 54, 128)          0         \n",
      " 1D)                                                             \n",
      "                                                                 \n",
      " conv1d_4 (Conv1D)           (None, 52, 64)            24640     \n",
      "                                                                 \n",
      " max_pooling1d_4 (MaxPooling  (None, 26, 64)           0         \n",
      " 1D)                                                             \n",
      "                                                                 \n",
      " conv1d_5 (Conv1D)           (None, 24, 32)            6176      \n",
      "                                                                 \n",
      " max_pooling1d_5 (MaxPooling  (None, 12, 32)           0         \n",
      " 1D)                                                             \n",
      "                                                                 \n",
      " flatten_1 (Flatten)         (None, 384)               0         \n",
      "                                                                 \n",
      " sequential_3 (Sequential)   (None, 1)                 135617    \n",
      "                                                                 \n",
      "=================================================================\n",
      "Total params: 168,481\n",
      "Trainable params: 168,481\n",
      "Non-trainable params: 0\n",
      "_________________________________________________________________\n"
     ]
    }
   ],
   "source": [
    "cnn1d_encoder = Sequential([\n",
    "    Conv1D(filters = 128, kernel_size = 3, activation = 'relu', input_shape = (110, 5)), \n",
    "    MaxPooling1D(pool_size = 2),\n",
    "    Conv1D(filters = 64, kernel_size = 3, activation = 'relu'), \n",
    "    # Dropout(0.5), \n",
    "    MaxPooling1D(pool_size = 2), \n",
    "    Conv1D(filters = 32, kernel_size = 3, activation = 'relu'), \n",
    "    MaxPooling1D(pool_size = 2), \n",
    "    Flatten()\n",
    "])\n",
    "cnn1d_decoder = Sequential([\n",
    "    Dense(256, activation = 'relu', input_shape = (cnn1d_encoder.output.shape[1], )), \n",
    "    Dense(128, activation = 'relu'),\n",
    "    Dense(32, activation = 'relu'),\n",
    "    Dense(1, activation = 'sigmoid')\n",
    "])\n",
    "cnn1d_autoencoder = Model(inputs = cnn1d_encoder.input, outputs = cnn1d_decoder(cnn1d_encoder.output))\n",
    "cnn1d_autoencoder.compile(loss='binary_crossentropy', optimizer='adam', metrics = ['accuracy'])\n",
    "cnn1d_autoencoder.summary()"
   ]
  },
  {
   "cell_type": "code",
   "execution_count": 16,
   "id": "02d9e8d0",
   "metadata": {},
   "outputs": [
    {
     "name": "stdout",
     "output_type": "stream",
     "text": [
      "Epoch 1/200\n",
      "109/109 [==============================] - 2s 13ms/step - loss: 0.3768 - accuracy: 0.8370 - val_loss: 0.3303 - val_accuracy: 0.8601\n",
      "Epoch 2/200\n",
      "109/109 [==============================] - 1s 11ms/step - loss: 0.1602 - accuracy: 0.9355 - val_loss: 0.2140 - val_accuracy: 0.9133\n",
      "Epoch 3/200\n",
      "109/109 [==============================] - 1s 10ms/step - loss: 0.0923 - accuracy: 0.9633 - val_loss: 0.1837 - val_accuracy: 0.9399\n",
      "Epoch 4/200\n",
      "109/109 [==============================] - 1s 11ms/step - loss: 0.0547 - accuracy: 0.9815 - val_loss: 0.1840 - val_accuracy: 0.9387\n",
      "Epoch 5/200\n",
      "109/109 [==============================] - 1s 10ms/step - loss: 0.0584 - accuracy: 0.9801 - val_loss: 0.1186 - val_accuracy: 0.9526\n",
      "Epoch 6/200\n",
      "109/109 [==============================] - 1s 11ms/step - loss: 0.0469 - accuracy: 0.9838 - val_loss: 0.1117 - val_accuracy: 0.9688\n",
      "Epoch 7/200\n",
      "109/109 [==============================] - 1s 11ms/step - loss: 0.0407 - accuracy: 0.9844 - val_loss: 0.1468 - val_accuracy: 0.9514\n",
      "Epoch 8/200\n",
      "109/109 [==============================] - 1s 11ms/step - loss: 0.0378 - accuracy: 0.9858 - val_loss: 0.1378 - val_accuracy: 0.9642\n",
      "Epoch 9/200\n",
      "109/109 [==============================] - 1s 11ms/step - loss: 0.0518 - accuracy: 0.9832 - val_loss: 0.1113 - val_accuracy: 0.9688\n",
      "Epoch 10/200\n",
      "109/109 [==============================] - 1s 11ms/step - loss: 0.0362 - accuracy: 0.9882 - val_loss: 0.0753 - val_accuracy: 0.9780\n",
      "Epoch 11/200\n",
      "109/109 [==============================] - 1s 11ms/step - loss: 0.0171 - accuracy: 0.9931 - val_loss: 0.0834 - val_accuracy: 0.9803\n",
      "Epoch 12/200\n",
      "109/109 [==============================] - 1s 11ms/step - loss: 0.0241 - accuracy: 0.9919 - val_loss: 0.1157 - val_accuracy: 0.9688\n",
      "Epoch 13/200\n",
      "109/109 [==============================] - 1s 11ms/step - loss: 0.0319 - accuracy: 0.9879 - val_loss: 0.1266 - val_accuracy: 0.9491\n",
      "Epoch 14/200\n",
      "109/109 [==============================] - 1s 11ms/step - loss: 0.0399 - accuracy: 0.9876 - val_loss: 0.0976 - val_accuracy: 0.9734\n",
      "Epoch 15/200\n",
      "109/109 [==============================] - 1s 11ms/step - loss: 0.0111 - accuracy: 0.9960 - val_loss: 0.0843 - val_accuracy: 0.9780\n",
      "Epoch 16/200\n",
      "109/109 [==============================] - 1s 12ms/step - loss: 0.0172 - accuracy: 0.9939 - val_loss: 0.1070 - val_accuracy: 0.9653\n",
      "Epoch 17/200\n",
      "109/109 [==============================] - 1s 11ms/step - loss: 0.0210 - accuracy: 0.9939 - val_loss: 0.0871 - val_accuracy: 0.9792\n",
      "Epoch 18/200\n",
      "109/109 [==============================] - 1s 11ms/step - loss: 0.0110 - accuracy: 0.9951 - val_loss: 0.1229 - val_accuracy: 0.9780\n",
      "Epoch 19/200\n",
      "109/109 [==============================] - 1s 11ms/step - loss: 0.0085 - accuracy: 0.9968 - val_loss: 0.1177 - val_accuracy: 0.9711\n",
      "Epoch 20/200\n",
      "109/109 [==============================] - 1s 11ms/step - loss: 0.0181 - accuracy: 0.9957 - val_loss: 0.1139 - val_accuracy: 0.9792\n",
      "Epoch 21/200\n",
      "109/109 [==============================] - 1s 11ms/step - loss: 0.0178 - accuracy: 0.9945 - val_loss: 0.1443 - val_accuracy: 0.9630\n",
      "Epoch 22/200\n",
      "109/109 [==============================] - 1s 11ms/step - loss: 0.0140 - accuracy: 0.9962 - val_loss: 0.1104 - val_accuracy: 0.9711\n",
      "Epoch 23/200\n",
      "109/109 [==============================] - 1s 12ms/step - loss: 0.0081 - accuracy: 0.9965 - val_loss: 0.1206 - val_accuracy: 0.9769\n",
      "Epoch 24/200\n",
      "109/109 [==============================] - 1s 11ms/step - loss: 0.0062 - accuracy: 0.9977 - val_loss: 0.1430 - val_accuracy: 0.9757\n",
      "Epoch 25/200\n",
      "109/109 [==============================] - 1s 12ms/step - loss: 0.0053 - accuracy: 0.9983 - val_loss: 0.1343 - val_accuracy: 0.9780\n",
      "Epoch 26/200\n",
      "109/109 [==============================] - 1s 11ms/step - loss: 0.0236 - accuracy: 0.9928 - val_loss: 0.1110 - val_accuracy: 0.9688\n",
      "Epoch 27/200\n",
      "109/109 [==============================] - 1s 11ms/step - loss: 0.0095 - accuracy: 0.9968 - val_loss: 0.1396 - val_accuracy: 0.9607\n",
      "Epoch 28/200\n",
      "109/109 [==============================] - 1s 12ms/step - loss: 0.0085 - accuracy: 0.9968 - val_loss: 0.3941 - val_accuracy: 0.9410\n",
      "Epoch 29/200\n",
      "109/109 [==============================] - 1s 11ms/step - loss: 0.0315 - accuracy: 0.9887 - val_loss: 0.0904 - val_accuracy: 0.9803\n",
      "Epoch 30/200\n",
      "109/109 [==============================] - 1s 11ms/step - loss: 0.0088 - accuracy: 0.9965 - val_loss: 0.1353 - val_accuracy: 0.9699\n",
      "Epoch 31/200\n",
      "109/109 [==============================] - 1s 11ms/step - loss: 0.0175 - accuracy: 0.9951 - val_loss: 0.1092 - val_accuracy: 0.9665\n",
      "Epoch 32/200\n",
      "109/109 [==============================] - 1s 12ms/step - loss: 0.0087 - accuracy: 0.9974 - val_loss: 0.1477 - val_accuracy: 0.9792\n",
      "Epoch 33/200\n",
      "109/109 [==============================] - 1s 12ms/step - loss: 0.0047 - accuracy: 0.9986 - val_loss: 0.1459 - val_accuracy: 0.9676\n",
      "Epoch 34/200\n",
      "109/109 [==============================] - 1s 11ms/step - loss: 0.0060 - accuracy: 0.9983 - val_loss: 0.1320 - val_accuracy: 0.9803\n",
      "Epoch 35/200\n",
      "109/109 [==============================] - 1s 11ms/step - loss: 9.3442e-04 - accuracy: 0.9994 - val_loss: 0.1428 - val_accuracy: 0.9815\n",
      "Epoch 36/200\n",
      "109/109 [==============================] - 1s 12ms/step - loss: 6.4691e-04 - accuracy: 1.0000 - val_loss: 0.1532 - val_accuracy: 0.9815\n",
      "Epoch 37/200\n",
      "109/109 [==============================] - 1s 12ms/step - loss: 6.1017e-04 - accuracy: 0.9994 - val_loss: 0.1726 - val_accuracy: 0.9769\n",
      "Epoch 38/200\n",
      "109/109 [==============================] - 1s 12ms/step - loss: 0.0039 - accuracy: 0.9994 - val_loss: 0.1273 - val_accuracy: 0.9815\n",
      "Epoch 39/200\n",
      "109/109 [==============================] - 1s 12ms/step - loss: 6.6733e-04 - accuracy: 0.9997 - val_loss: 0.1269 - val_accuracy: 0.9792\n",
      "Epoch 40/200\n",
      "109/109 [==============================] - 1s 12ms/step - loss: 0.0307 - accuracy: 0.9931 - val_loss: 0.1274 - val_accuracy: 0.9676\n",
      "Epoch 41/200\n",
      "109/109 [==============================] - 1s 12ms/step - loss: 0.0271 - accuracy: 0.9902 - val_loss: 0.1543 - val_accuracy: 0.9503\n",
      "Epoch 42/200\n",
      "109/109 [==============================] - 1s 11ms/step - loss: 0.0243 - accuracy: 0.9919 - val_loss: 0.1388 - val_accuracy: 0.9734\n",
      "Epoch 43/200\n",
      "109/109 [==============================] - 1s 11ms/step - loss: 0.0088 - accuracy: 0.9977 - val_loss: 0.1178 - val_accuracy: 0.9688\n",
      "Epoch 44/200\n",
      "109/109 [==============================] - 1s 12ms/step - loss: 0.0012 - accuracy: 0.9997 - val_loss: 0.1457 - val_accuracy: 0.9769\n",
      "Epoch 45/200\n",
      "109/109 [==============================] - 1s 12ms/step - loss: 0.0081 - accuracy: 0.9977 - val_loss: 0.1162 - val_accuracy: 0.9723\n",
      "Epoch 46/200\n",
      "109/109 [==============================] - 1s 12ms/step - loss: 0.0210 - accuracy: 0.9925 - val_loss: 0.0860 - val_accuracy: 0.9769\n",
      "Epoch 47/200\n",
      "109/109 [==============================] - 1s 12ms/step - loss: 0.0054 - accuracy: 0.9980 - val_loss: 0.1338 - val_accuracy: 0.9734\n",
      "Epoch 48/200\n",
      "109/109 [==============================] - 1s 12ms/step - loss: 0.0028 - accuracy: 0.9986 - val_loss: 0.1456 - val_accuracy: 0.9711\n",
      "Epoch 49/200\n",
      "109/109 [==============================] - 1s 12ms/step - loss: 0.0017 - accuracy: 0.9991 - val_loss: 0.1701 - val_accuracy: 0.9769\n",
      "Epoch 50/200\n",
      "109/109 [==============================] - 1s 12ms/step - loss: 4.3644e-04 - accuracy: 1.0000 - val_loss: 0.1716 - val_accuracy: 0.9757\n",
      "Epoch 51/200\n",
      "109/109 [==============================] - 1s 12ms/step - loss: 2.3016e-04 - accuracy: 1.0000 - val_loss: 0.1816 - val_accuracy: 0.9769\n",
      "Epoch 52/200\n",
      "109/109 [==============================] - 1s 12ms/step - loss: 1.7033e-04 - accuracy: 1.0000 - val_loss: 0.1931 - val_accuracy: 0.9769\n",
      "Epoch 53/200\n",
      "109/109 [==============================] - 1s 13ms/step - loss: 9.8883e-05 - accuracy: 1.0000 - val_loss: 0.1981 - val_accuracy: 0.9769\n",
      "Epoch 54/200\n",
      "109/109 [==============================] - 1s 12ms/step - loss: 6.6698e-05 - accuracy: 1.0000 - val_loss: 0.2054 - val_accuracy: 0.9757\n",
      "Epoch 55/200\n",
      "109/109 [==============================] - 1s 12ms/step - loss: 4.8593e-05 - accuracy: 1.0000 - val_loss: 0.2142 - val_accuracy: 0.9757\n",
      "Epoch 56/200\n",
      "109/109 [==============================] - 1s 13ms/step - loss: 3.4781e-05 - accuracy: 1.0000 - val_loss: 0.2218 - val_accuracy: 0.9757\n",
      "Epoch 57/200\n"
     ]
    },
    {
     "name": "stdout",
     "output_type": "stream",
     "text": [
      "109/109 [==============================] - 1s 11ms/step - loss: 2.5537e-05 - accuracy: 1.0000 - val_loss: 0.2310 - val_accuracy: 0.9746\n",
      "Epoch 58/200\n",
      "109/109 [==============================] - 1s 11ms/step - loss: 1.8061e-05 - accuracy: 1.0000 - val_loss: 0.2371 - val_accuracy: 0.9746\n",
      "Epoch 59/200\n",
      "109/109 [==============================] - 1s 11ms/step - loss: 1.3558e-05 - accuracy: 1.0000 - val_loss: 0.2426 - val_accuracy: 0.9757\n",
      "Epoch 60/200\n",
      "109/109 [==============================] - 1s 11ms/step - loss: 1.0117e-05 - accuracy: 1.0000 - val_loss: 0.2463 - val_accuracy: 0.9757\n",
      "Epoch 61/200\n",
      "109/109 [==============================] - 1s 11ms/step - loss: 8.1900e-06 - accuracy: 1.0000 - val_loss: 0.2451 - val_accuracy: 0.9757\n",
      "Epoch 62/200\n",
      "109/109 [==============================] - 1s 11ms/step - loss: 7.0319e-06 - accuracy: 1.0000 - val_loss: 0.2526 - val_accuracy: 0.9757\n",
      "Epoch 63/200\n",
      "109/109 [==============================] - 1s 11ms/step - loss: 5.0977e-06 - accuracy: 1.0000 - val_loss: 0.2571 - val_accuracy: 0.9757\n",
      "Epoch 64/200\n",
      "109/109 [==============================] - 1s 11ms/step - loss: 4.3799e-06 - accuracy: 1.0000 - val_loss: 0.2581 - val_accuracy: 0.9757\n",
      "Epoch 65/200\n",
      "109/109 [==============================] - 1s 11ms/step - loss: 3.6817e-06 - accuracy: 1.0000 - val_loss: 0.2613 - val_accuracy: 0.9757\n",
      "Epoch 66/200\n",
      "109/109 [==============================] - 1s 11ms/step - loss: 2.9418e-06 - accuracy: 1.0000 - val_loss: 0.2651 - val_accuracy: 0.9757\n",
      "Epoch 67/200\n",
      "109/109 [==============================] - 1s 11ms/step - loss: 2.5029e-06 - accuracy: 1.0000 - val_loss: 0.2679 - val_accuracy: 0.9757\n",
      "Epoch 68/200\n",
      "109/109 [==============================] - 1s 12ms/step - loss: 2.1010e-06 - accuracy: 1.0000 - val_loss: 0.2721 - val_accuracy: 0.9757\n",
      "Epoch 69/200\n",
      "109/109 [==============================] - 1s 11ms/step - loss: 1.8781e-06 - accuracy: 1.0000 - val_loss: 0.2727 - val_accuracy: 0.9757\n",
      "Epoch 70/200\n",
      "109/109 [==============================] - 1s 11ms/step - loss: 1.5106e-06 - accuracy: 1.0000 - val_loss: 0.2756 - val_accuracy: 0.9757\n",
      "Epoch 71/200\n",
      "109/109 [==============================] - 1s 11ms/step - loss: 1.3386e-06 - accuracy: 1.0000 - val_loss: 0.2759 - val_accuracy: 0.9757\n",
      "Epoch 72/200\n",
      "109/109 [==============================] - 1s 11ms/step - loss: 1.1681e-06 - accuracy: 1.0000 - val_loss: 0.2799 - val_accuracy: 0.9757\n",
      "Epoch 73/200\n",
      "109/109 [==============================] - 1s 11ms/step - loss: 9.7164e-07 - accuracy: 1.0000 - val_loss: 0.2830 - val_accuracy: 0.9757\n",
      "Epoch 74/200\n",
      "109/109 [==============================] - 1s 12ms/step - loss: 8.8099e-07 - accuracy: 1.0000 - val_loss: 0.2831 - val_accuracy: 0.9757\n",
      "Epoch 75/200\n",
      "109/109 [==============================] - 1s 11ms/step - loss: 7.4826e-07 - accuracy: 1.0000 - val_loss: 0.2869 - val_accuracy: 0.9757\n",
      "Epoch 76/200\n",
      "109/109 [==============================] - 1s 11ms/step - loss: 6.9416e-07 - accuracy: 1.0000 - val_loss: 0.2862 - val_accuracy: 0.9769\n",
      "Epoch 77/200\n",
      "109/109 [==============================] - 1s 11ms/step - loss: 6.0852e-07 - accuracy: 1.0000 - val_loss: 0.2894 - val_accuracy: 0.9769\n",
      "Epoch 78/200\n",
      "109/109 [==============================] - 1s 11ms/step - loss: 5.4157e-07 - accuracy: 1.0000 - val_loss: 0.2908 - val_accuracy: 0.9769\n",
      "Epoch 79/200\n",
      "109/109 [==============================] - 1s 11ms/step - loss: 4.7845e-07 - accuracy: 1.0000 - val_loss: 0.2937 - val_accuracy: 0.9769\n",
      "Epoch 80/200\n",
      "109/109 [==============================] - 1s 12ms/step - loss: 4.4004e-07 - accuracy: 1.0000 - val_loss: 0.2933 - val_accuracy: 0.9769\n",
      "Epoch 81/200\n",
      "109/109 [==============================] - 1s 11ms/step - loss: 3.9442e-07 - accuracy: 1.0000 - val_loss: 0.2954 - val_accuracy: 0.9769\n",
      "Epoch 82/200\n",
      "109/109 [==============================] - 1s 12ms/step - loss: 3.4619e-07 - accuracy: 1.0000 - val_loss: 0.2982 - val_accuracy: 0.9769\n",
      "Epoch 83/200\n",
      "109/109 [==============================] - 1s 14ms/step - loss: 3.3595e-07 - accuracy: 1.0000 - val_loss: 0.2981 - val_accuracy: 0.9769\n",
      "Epoch 84/200\n",
      "109/109 [==============================] - 1s 13ms/step - loss: 2.9157e-07 - accuracy: 1.0000 - val_loss: 0.2992 - val_accuracy: 0.9769\n",
      "Epoch 85/200\n",
      "109/109 [==============================] - 1s 12ms/step - loss: 2.6567e-07 - accuracy: 1.0000 - val_loss: 0.3016 - val_accuracy: 0.9769\n",
      "Epoch 86/200\n",
      "109/109 [==============================] - 1s 12ms/step - loss: 2.4048e-07 - accuracy: 1.0000 - val_loss: 0.3025 - val_accuracy: 0.9769\n",
      "Epoch 87/200\n",
      "109/109 [==============================] - 1s 12ms/step - loss: 2.1599e-07 - accuracy: 1.0000 - val_loss: 0.3043 - val_accuracy: 0.9769\n",
      "Epoch 88/200\n",
      "109/109 [==============================] - 1s 12ms/step - loss: 1.9146e-07 - accuracy: 1.0000 - val_loss: 0.3052 - val_accuracy: 0.9769\n",
      "Epoch 89/200\n",
      "109/109 [==============================] - 1s 12ms/step - loss: 1.7485e-07 - accuracy: 1.0000 - val_loss: 0.3063 - val_accuracy: 0.9769\n",
      "Epoch 90/200\n",
      "109/109 [==============================] - 1s 12ms/step - loss: 1.6054e-07 - accuracy: 1.0000 - val_loss: 0.3068 - val_accuracy: 0.9769\n",
      "Epoch 91/200\n",
      "109/109 [==============================] - 1s 12ms/step - loss: 1.4619e-07 - accuracy: 1.0000 - val_loss: 0.3092 - val_accuracy: 0.9769\n",
      "Epoch 92/200\n",
      "109/109 [==============================] - 1s 12ms/step - loss: 1.3178e-07 - accuracy: 1.0000 - val_loss: 0.3102 - val_accuracy: 0.9769\n",
      "Epoch 93/200\n",
      "109/109 [==============================] - 1s 13ms/step - loss: 1.1761e-07 - accuracy: 1.0000 - val_loss: 0.3123 - val_accuracy: 0.9769\n",
      "Epoch 94/200\n",
      "109/109 [==============================] - 1s 12ms/step - loss: 1.1253e-07 - accuracy: 1.0000 - val_loss: 0.3126 - val_accuracy: 0.9769\n",
      "Epoch 95/200\n",
      "109/109 [==============================] - 1s 12ms/step - loss: 9.8827e-08 - accuracy: 1.0000 - val_loss: 0.3146 - val_accuracy: 0.9769\n",
      "Epoch 96/200\n",
      "109/109 [==============================] - 1s 12ms/step - loss: 8.9910e-08 - accuracy: 1.0000 - val_loss: 0.3156 - val_accuracy: 0.9769\n",
      "Epoch 97/200\n",
      "109/109 [==============================] - 1s 12ms/step - loss: 8.1066e-08 - accuracy: 1.0000 - val_loss: 0.3177 - val_accuracy: 0.9769\n",
      "Epoch 98/200\n",
      "109/109 [==============================] - 1s 12ms/step - loss: 7.8207e-08 - accuracy: 1.0000 - val_loss: 0.3177 - val_accuracy: 0.9769\n",
      "Epoch 99/200\n",
      "109/109 [==============================] - 1s 12ms/step - loss: 6.8424e-08 - accuracy: 1.0000 - val_loss: 0.3200 - val_accuracy: 0.9769\n",
      "Epoch 100/200\n",
      "109/109 [==============================] - 1s 12ms/step - loss: 6.3073e-08 - accuracy: 1.0000 - val_loss: 0.3203 - val_accuracy: 0.9769\n",
      "Epoch 101/200\n",
      "109/109 [==============================] - 1s 12ms/step - loss: 5.7714e-08 - accuracy: 1.0000 - val_loss: 0.3221 - val_accuracy: 0.9769\n",
      "Epoch 102/200\n",
      "109/109 [==============================] - 1s 12ms/step - loss: 5.3029e-08 - accuracy: 1.0000 - val_loss: 0.3227 - val_accuracy: 0.9769\n",
      "Epoch 103/200\n",
      "109/109 [==============================] - 1s 12ms/step - loss: 4.7094e-08 - accuracy: 1.0000 - val_loss: 0.3237 - val_accuracy: 0.9769\n",
      "Epoch 104/200\n",
      "109/109 [==============================] - 1s 12ms/step - loss: 4.2449e-08 - accuracy: 1.0000 - val_loss: 0.3241 - val_accuracy: 0.9769\n",
      "Epoch 105/200\n",
      "109/109 [==============================] - 1s 12ms/step - loss: 3.8948e-08 - accuracy: 1.0000 - val_loss: 0.3262 - val_accuracy: 0.9769\n",
      "Epoch 106/200\n",
      "109/109 [==============================] - 1s 12ms/step - loss: 3.5560e-08 - accuracy: 1.0000 - val_loss: 0.3277 - val_accuracy: 0.9769\n",
      "Epoch 107/200\n",
      "109/109 [==============================] - 1s 12ms/step - loss: 3.3632e-08 - accuracy: 1.0000 - val_loss: 0.3275 - val_accuracy: 0.9769\n",
      "Epoch 108/200\n",
      "109/109 [==============================] - 1s 12ms/step - loss: 3.0403e-08 - accuracy: 1.0000 - val_loss: 0.3292 - val_accuracy: 0.9769\n",
      "Epoch 109/200\n",
      "109/109 [==============================] - 1s 12ms/step - loss: 2.8580e-08 - accuracy: 1.0000 - val_loss: 0.3300 - val_accuracy: 0.9769\n",
      "Epoch 110/200\n",
      "109/109 [==============================] - 1s 12ms/step - loss: 2.6251e-08 - accuracy: 1.0000 - val_loss: 0.3305 - val_accuracy: 0.9769\n",
      "Epoch 111/200\n",
      "109/109 [==============================] - 1s 12ms/step - loss: 2.4386e-08 - accuracy: 1.0000 - val_loss: 0.3318 - val_accuracy: 0.9769\n"
     ]
    },
    {
     "name": "stdout",
     "output_type": "stream",
     "text": [
      "Epoch 112/200\n",
      "109/109 [==============================] - 1s 10ms/step - loss: 2.3241e-08 - accuracy: 1.0000 - val_loss: 0.3322 - val_accuracy: 0.9769\n",
      "Epoch 113/200\n",
      "109/109 [==============================] - 1s 11ms/step - loss: 2.1604e-08 - accuracy: 1.0000 - val_loss: 0.3332 - val_accuracy: 0.9769\n",
      "Epoch 114/200\n",
      "109/109 [==============================] - 1s 11ms/step - loss: 2.0462e-08 - accuracy: 1.0000 - val_loss: 0.3342 - val_accuracy: 0.9769\n",
      "Epoch 115/200\n",
      "109/109 [==============================] - 1s 12ms/step - loss: 1.8876e-08 - accuracy: 1.0000 - val_loss: 0.3352 - val_accuracy: 0.9769\n",
      "Epoch 116/200\n",
      "109/109 [==============================] - 1s 11ms/step - loss: 1.7858e-08 - accuracy: 1.0000 - val_loss: 0.3365 - val_accuracy: 0.9769\n",
      "Epoch 117/200\n",
      "109/109 [==============================] - 1s 11ms/step - loss: 1.7472e-08 - accuracy: 1.0000 - val_loss: 0.3369 - val_accuracy: 0.9769\n",
      "Epoch 118/200\n",
      "109/109 [==============================] - 1s 11ms/step - loss: 1.6210e-08 - accuracy: 1.0000 - val_loss: 0.3385 - val_accuracy: 0.9769\n",
      "Epoch 119/200\n",
      "109/109 [==============================] - 1s 12ms/step - loss: 1.5277e-08 - accuracy: 1.0000 - val_loss: 0.3384 - val_accuracy: 0.9769\n",
      "Epoch 120/200\n",
      "109/109 [==============================] - 1s 11ms/step - loss: 1.4304e-08 - accuracy: 1.0000 - val_loss: 0.3396 - val_accuracy: 0.9769\n",
      "Epoch 121/200\n",
      "109/109 [==============================] - 1s 11ms/step - loss: 1.3254e-08 - accuracy: 1.0000 - val_loss: 0.3410 - val_accuracy: 0.9769\n",
      "Epoch 122/200\n",
      "109/109 [==============================] - 1s 11ms/step - loss: 1.2625e-08 - accuracy: 1.0000 - val_loss: 0.3424 - val_accuracy: 0.9769\n",
      "Epoch 123/200\n",
      "109/109 [==============================] - 1s 11ms/step - loss: 1.2029e-08 - accuracy: 1.0000 - val_loss: 0.3430 - val_accuracy: 0.9769\n",
      "Epoch 124/200\n",
      "109/109 [==============================] - 1s 11ms/step - loss: 1.1209e-08 - accuracy: 1.0000 - val_loss: 0.3442 - val_accuracy: 0.9769\n",
      "Epoch 125/200\n",
      "109/109 [==============================] - 1s 11ms/step - loss: 1.0680e-08 - accuracy: 1.0000 - val_loss: 0.3449 - val_accuracy: 0.9769\n",
      "Epoch 126/200\n",
      "109/109 [==============================] - 1s 11ms/step - loss: 1.0080e-08 - accuracy: 1.0000 - val_loss: 0.3458 - val_accuracy: 0.9769\n",
      "Epoch 127/200\n",
      "109/109 [==============================] - 1s 12ms/step - loss: 9.5650e-09 - accuracy: 1.0000 - val_loss: 0.3463 - val_accuracy: 0.9769\n",
      "Epoch 128/200\n",
      "109/109 [==============================] - 1s 11ms/step - loss: 8.9870e-09 - accuracy: 1.0000 - val_loss: 0.3475 - val_accuracy: 0.9769\n",
      "Epoch 129/200\n",
      "109/109 [==============================] - 1s 12ms/step - loss: 8.6220e-09 - accuracy: 1.0000 - val_loss: 0.3480 - val_accuracy: 0.9769\n",
      "Epoch 130/200\n",
      "109/109 [==============================] - 1s 12ms/step - loss: 8.0206e-09 - accuracy: 1.0000 - val_loss: 0.3491 - val_accuracy: 0.9769\n",
      "Epoch 131/200\n",
      "109/109 [==============================] - 1s 12ms/step - loss: 7.6987e-09 - accuracy: 1.0000 - val_loss: 0.3496 - val_accuracy: 0.9769\n",
      "Epoch 132/200\n",
      "109/109 [==============================] - 1s 12ms/step - loss: 7.3743e-09 - accuracy: 1.0000 - val_loss: 0.3503 - val_accuracy: 0.9769\n",
      "Epoch 133/200\n",
      "109/109 [==============================] - 1s 12ms/step - loss: 6.9028e-09 - accuracy: 1.0000 - val_loss: 0.3517 - val_accuracy: 0.9769\n",
      "Epoch 134/200\n",
      "109/109 [==============================] - 1s 12ms/step - loss: 6.5300e-09 - accuracy: 1.0000 - val_loss: 0.3525 - val_accuracy: 0.9769\n",
      "Epoch 135/200\n",
      "109/109 [==============================] - 1s 12ms/step - loss: 6.3182e-09 - accuracy: 1.0000 - val_loss: 0.3532 - val_accuracy: 0.9769\n",
      "Epoch 136/200\n",
      "109/109 [==============================] - 1s 12ms/step - loss: 6.0175e-09 - accuracy: 1.0000 - val_loss: 0.3544 - val_accuracy: 0.9769\n",
      "Epoch 137/200\n",
      "109/109 [==============================] - 1s 12ms/step - loss: 5.6936e-09 - accuracy: 1.0000 - val_loss: 0.3542 - val_accuracy: 0.9769\n",
      "Epoch 138/200\n",
      "109/109 [==============================] - 1s 12ms/step - loss: 5.4454e-09 - accuracy: 1.0000 - val_loss: 0.3556 - val_accuracy: 0.9769\n",
      "Epoch 139/200\n",
      "109/109 [==============================] - 1s 12ms/step - loss: 5.1979e-09 - accuracy: 1.0000 - val_loss: 0.3567 - val_accuracy: 0.9769\n",
      "Epoch 140/200\n",
      "109/109 [==============================] - 1s 13ms/step - loss: 4.9861e-09 - accuracy: 1.0000 - val_loss: 0.3579 - val_accuracy: 0.9769\n",
      "Epoch 141/200\n",
      "109/109 [==============================] - 1s 12ms/step - loss: 4.7474e-09 - accuracy: 1.0000 - val_loss: 0.3573 - val_accuracy: 0.9769\n",
      "Epoch 142/200\n",
      "109/109 [==============================] - 1s 12ms/step - loss: 4.4535e-09 - accuracy: 1.0000 - val_loss: 0.3588 - val_accuracy: 0.9769\n",
      "Epoch 143/200\n",
      "109/109 [==============================] - 1s 13ms/step - loss: 4.3259e-09 - accuracy: 1.0000 - val_loss: 0.3592 - val_accuracy: 0.9769\n",
      "Epoch 144/200\n",
      "109/109 [==============================] - 1s 12ms/step - loss: 4.1063e-09 - accuracy: 1.0000 - val_loss: 0.3601 - val_accuracy: 0.9769\n",
      "Epoch 145/200\n",
      "109/109 [==============================] - 1s 12ms/step - loss: 3.9240e-09 - accuracy: 1.0000 - val_loss: 0.3606 - val_accuracy: 0.9769\n",
      "Epoch 146/200\n",
      "109/109 [==============================] - 1s 12ms/step - loss: 3.7646e-09 - accuracy: 1.0000 - val_loss: 0.3613 - val_accuracy: 0.9769\n",
      "Epoch 147/200\n",
      "109/109 [==============================] - 1s 12ms/step - loss: 3.5865e-09 - accuracy: 1.0000 - val_loss: 0.3618 - val_accuracy: 0.9769\n",
      "Epoch 148/200\n",
      "109/109 [==============================] - 1s 12ms/step - loss: 3.4158e-09 - accuracy: 1.0000 - val_loss: 0.3627 - val_accuracy: 0.9769\n",
      "Epoch 149/200\n",
      "109/109 [==============================] - 1s 12ms/step - loss: 3.2074e-09 - accuracy: 1.0000 - val_loss: 0.3639 - val_accuracy: 0.9769\n",
      "Epoch 150/200\n",
      "109/109 [==============================] - 1s 12ms/step - loss: 3.1119e-09 - accuracy: 1.0000 - val_loss: 0.3651 - val_accuracy: 0.9769\n",
      "Epoch 151/200\n",
      "109/109 [==============================] - 1s 11ms/step - loss: 2.9844e-09 - accuracy: 1.0000 - val_loss: 0.3648 - val_accuracy: 0.9769\n",
      "Epoch 152/200\n",
      "109/109 [==============================] - 1s 11ms/step - loss: 2.8535e-09 - accuracy: 1.0000 - val_loss: 0.3660 - val_accuracy: 0.9769\n",
      "Epoch 153/200\n",
      "109/109 [==============================] - 1s 12ms/step - loss: 2.6896e-09 - accuracy: 1.0000 - val_loss: 0.3672 - val_accuracy: 0.9769\n",
      "Epoch 154/200\n",
      "109/109 [==============================] - 1s 11ms/step - loss: 2.5644e-09 - accuracy: 1.0000 - val_loss: 0.3680 - val_accuracy: 0.9769\n",
      "Epoch 155/200\n",
      "109/109 [==============================] - 1s 11ms/step - loss: 2.4857e-09 - accuracy: 1.0000 - val_loss: 0.3692 - val_accuracy: 0.9769\n",
      "Epoch 156/200\n",
      "109/109 [==============================] - 1s 12ms/step - loss: 2.3834e-09 - accuracy: 1.0000 - val_loss: 0.3700 - val_accuracy: 0.9769\n",
      "Epoch 157/200\n",
      "109/109 [==============================] - 1s 11ms/step - loss: 2.2668e-09 - accuracy: 1.0000 - val_loss: 0.3710 - val_accuracy: 0.9769\n",
      "Epoch 158/200\n",
      "109/109 [==============================] - 1s 12ms/step - loss: 2.1887e-09 - accuracy: 1.0000 - val_loss: 0.3715 - val_accuracy: 0.9769\n",
      "Epoch 159/200\n",
      "109/109 [==============================] - 1s 11ms/step - loss: 2.0702e-09 - accuracy: 1.0000 - val_loss: 0.3717 - val_accuracy: 0.9769\n",
      "Epoch 160/200\n",
      "109/109 [==============================] - 1s 12ms/step - loss: 1.9829e-09 - accuracy: 1.0000 - val_loss: 0.3721 - val_accuracy: 0.9769\n",
      "Epoch 161/200\n",
      "109/109 [==============================] - 1s 11ms/step - loss: 1.8753e-09 - accuracy: 1.0000 - val_loss: 0.3728 - val_accuracy: 0.9769\n",
      "Epoch 162/200\n",
      "109/109 [==============================] - 1s 11ms/step - loss: 1.7810e-09 - accuracy: 1.0000 - val_loss: 0.3742 - val_accuracy: 0.9769\n",
      "Epoch 163/200\n",
      "109/109 [==============================] - 1s 12ms/step - loss: 1.7454e-09 - accuracy: 1.0000 - val_loss: 0.3750 - val_accuracy: 0.9769\n",
      "Epoch 164/200\n",
      "109/109 [==============================] - 1s 11ms/step - loss: 1.6679e-09 - accuracy: 1.0000 - val_loss: 0.3751 - val_accuracy: 0.9769\n",
      "Epoch 165/200\n",
      "109/109 [==============================] - 1s 11ms/step - loss: 1.5715e-09 - accuracy: 1.0000 - val_loss: 0.3765 - val_accuracy: 0.9769\n",
      "Epoch 166/200\n"
     ]
    },
    {
     "name": "stdout",
     "output_type": "stream",
     "text": [
      "109/109 [==============================] - 1s 10ms/step - loss: 1.5461e-09 - accuracy: 1.0000 - val_loss: 0.3766 - val_accuracy: 0.9769\n",
      "Epoch 167/200\n",
      "109/109 [==============================] - 1s 10ms/step - loss: 1.4408e-09 - accuracy: 1.0000 - val_loss: 0.3773 - val_accuracy: 0.9769\n",
      "Epoch 168/200\n",
      "109/109 [==============================] - 1s 10ms/step - loss: 1.3958e-09 - accuracy: 1.0000 - val_loss: 0.3773 - val_accuracy: 0.9769\n",
      "Epoch 169/200\n",
      "109/109 [==============================] - 1s 10ms/step - loss: 1.3050e-09 - accuracy: 1.0000 - val_loss: 0.3786 - val_accuracy: 0.9769\n",
      "Epoch 170/200\n",
      "109/109 [==============================] - 1s 10ms/step - loss: 1.2603e-09 - accuracy: 1.0000 - val_loss: 0.3791 - val_accuracy: 0.9769\n",
      "Epoch 171/200\n",
      "109/109 [==============================] - 1s 10ms/step - loss: 1.2125e-09 - accuracy: 1.0000 - val_loss: 0.3803 - val_accuracy: 0.9769\n",
      "Epoch 172/200\n",
      "109/109 [==============================] - 1s 10ms/step - loss: 1.1571e-09 - accuracy: 1.0000 - val_loss: 0.3803 - val_accuracy: 0.9769\n",
      "Epoch 173/200\n",
      "109/109 [==============================] - 1s 11ms/step - loss: 1.0993e-09 - accuracy: 1.0000 - val_loss: 0.3813 - val_accuracy: 0.9769\n",
      "Epoch 174/200\n",
      "109/109 [==============================] - 1s 11ms/step - loss: 1.0386e-09 - accuracy: 1.0000 - val_loss: 0.3827 - val_accuracy: 0.9769\n",
      "Epoch 175/200\n",
      "109/109 [==============================] - 1s 11ms/step - loss: 1.0160e-09 - accuracy: 1.0000 - val_loss: 0.3833 - val_accuracy: 0.9769\n",
      "Epoch 176/200\n",
      "109/109 [==============================] - 1s 11ms/step - loss: 9.7158e-10 - accuracy: 1.0000 - val_loss: 0.3839 - val_accuracy: 0.9769\n",
      "Epoch 177/200\n",
      "109/109 [==============================] - 1s 11ms/step - loss: 9.2489e-10 - accuracy: 1.0000 - val_loss: 0.3847 - val_accuracy: 0.9769\n",
      "Epoch 178/200\n",
      "109/109 [==============================] - 1s 10ms/step - loss: 8.9156e-10 - accuracy: 1.0000 - val_loss: 0.3849 - val_accuracy: 0.9769\n",
      "Epoch 179/200\n",
      "109/109 [==============================] - 1s 11ms/step - loss: 8.4531e-10 - accuracy: 1.0000 - val_loss: 0.3862 - val_accuracy: 0.9769\n",
      "Epoch 180/200\n",
      "109/109 [==============================] - 1s 11ms/step - loss: 8.1757e-10 - accuracy: 1.0000 - val_loss: 0.3863 - val_accuracy: 0.9769\n",
      "Epoch 181/200\n",
      "109/109 [==============================] - 1s 11ms/step - loss: 7.9065e-10 - accuracy: 1.0000 - val_loss: 0.3865 - val_accuracy: 0.9769\n",
      "Epoch 182/200\n",
      "109/109 [==============================] - 1s 11ms/step - loss: 7.3471e-10 - accuracy: 1.0000 - val_loss: 0.3881 - val_accuracy: 0.9769\n",
      "Epoch 183/200\n",
      "109/109 [==============================] - 1s 11ms/step - loss: 7.0660e-10 - accuracy: 1.0000 - val_loss: 0.3885 - val_accuracy: 0.9769\n",
      "Epoch 184/200\n",
      "109/109 [==============================] - 1s 11ms/step - loss: 6.9007e-10 - accuracy: 1.0000 - val_loss: 0.3888 - val_accuracy: 0.9769\n",
      "Epoch 185/200\n",
      "109/109 [==============================] - 1s 11ms/step - loss: 6.5712e-10 - accuracy: 1.0000 - val_loss: 0.3894 - val_accuracy: 0.9769\n",
      "Epoch 186/200\n",
      "109/109 [==============================] - 1s 11ms/step - loss: 6.2458e-10 - accuracy: 1.0000 - val_loss: 0.3905 - val_accuracy: 0.9769\n",
      "Epoch 187/200\n",
      "109/109 [==============================] - 1s 11ms/step - loss: 6.0831e-10 - accuracy: 1.0000 - val_loss: 0.3906 - val_accuracy: 0.9769\n",
      "Epoch 188/200\n",
      "109/109 [==============================] - 1s 11ms/step - loss: 5.8330e-10 - accuracy: 1.0000 - val_loss: 0.3911 - val_accuracy: 0.9769\n",
      "Epoch 189/200\n",
      "109/109 [==============================] - 1s 11ms/step - loss: 5.5173e-10 - accuracy: 1.0000 - val_loss: 0.3920 - val_accuracy: 0.9769\n",
      "Epoch 190/200\n",
      "109/109 [==============================] - 1s 11ms/step - loss: 5.3717e-10 - accuracy: 1.0000 - val_loss: 0.3923 - val_accuracy: 0.9769\n",
      "Epoch 191/200\n",
      "109/109 [==============================] - 1s 11ms/step - loss: 5.0985e-10 - accuracy: 1.0000 - val_loss: 0.3933 - val_accuracy: 0.9769\n",
      "Epoch 192/200\n",
      "109/109 [==============================] - 1s 11ms/step - loss: 4.9072e-10 - accuracy: 1.0000 - val_loss: 0.3943 - val_accuracy: 0.9769\n",
      "Epoch 193/200\n",
      "109/109 [==============================] - 1s 11ms/step - loss: 4.6409e-10 - accuracy: 1.0000 - val_loss: 0.3947 - val_accuracy: 0.9769\n",
      "Epoch 194/200\n",
      "109/109 [==============================] - 1s 11ms/step - loss: 4.4838e-10 - accuracy: 1.0000 - val_loss: 0.3957 - val_accuracy: 0.9769\n",
      "Epoch 195/200\n",
      "109/109 [==============================] - 1s 11ms/step - loss: 4.3747e-10 - accuracy: 1.0000 - val_loss: 0.3966 - val_accuracy: 0.9769\n",
      "Epoch 196/200\n",
      "109/109 [==============================] - 1s 11ms/step - loss: 4.2025e-10 - accuracy: 1.0000 - val_loss: 0.3974 - val_accuracy: 0.9769\n",
      "Epoch 197/200\n",
      "109/109 [==============================] - 1s 11ms/step - loss: 4.0822e-10 - accuracy: 1.0000 - val_loss: 0.3979 - val_accuracy: 0.9769\n",
      "Epoch 198/200\n",
      "109/109 [==============================] - 1s 12ms/step - loss: 3.9359e-10 - accuracy: 1.0000 - val_loss: 0.3987 - val_accuracy: 0.9769\n",
      "Epoch 199/200\n",
      "109/109 [==============================] - 1s 11ms/step - loss: 3.8497e-10 - accuracy: 1.0000 - val_loss: 0.3993 - val_accuracy: 0.9769\n",
      "Epoch 200/200\n",
      "109/109 [==============================] - 1s 12ms/step - loss: 3.7168e-10 - accuracy: 1.0000 - val_loss: 0.4001 - val_accuracy: 0.9769\n"
     ]
    }
   ],
   "source": [
    "model_history2 = cnn1d_autoencoder.fit(X_train, Y_train, epochs=200, batch_size=32,\n",
    "                                       validation_split = .2, \n",
    "                                       verbose=1)"
   ]
  },
  {
   "cell_type": "code",
   "execution_count": 17,
   "id": "bde97b15",
   "metadata": {},
   "outputs": [
    {
     "data": {
      "image/png": "[encoded data removed]",
      "text/plain": [
       "<Figure size 432x288 with 1 Axes>"
      ]
     },
     "metadata": {
      "needs_background": "light"
     },
     "output_type": "display_data"
    }
   ],
   "source": [
    "from matplotlib import pyplot\n",
    "pyplot.title('Learning Curves')\n",
    "pyplot.xlabel('Epoch')\n",
    "pyplot.ylabel('accuracy')\n",
    "pyplot.plot(model_history2.history['accuracy'], label='train')\n",
    "pyplot.plot(model_history2.history['val_accuracy'], label='val')\n",
    "pyplot.legend()\n",
    "pyplot.show()"
   ]
  },
  {
   "cell_type": "code",
   "execution_count": 20,
   "id": "9cd82796",
   "metadata": {},
   "outputs": [],
   "source": [
    "from sklearn.metrics import accuracy_score\n",
    "from sklearn.metrics import confusion_matrix\n",
    "pred = (cnn1d_autoencoder.predict(X_test)> 0.5).reshape((1854, ))\n",
    "pred = np.multiply(pred, 1)"
   ]
  },
  {
   "cell_type": "code",
   "execution_count": 21,
   "id": "af60bdf9",
   "metadata": {},
   "outputs": [
    {
     "data": {
      "text/plain": [
       "(1854,)"
      ]
     },
     "execution_count": 21,
     "metadata": {},
     "output_type": "execute_result"
    }
   ],
   "source": [
    "pred.shape"
   ]
  },
  {
   "cell_type": "code",
   "execution_count": 22,
   "id": "7a519f8b",
   "metadata": {},
   "outputs": [
    {
     "data": {
      "text/plain": [
       "0.9795037756202805"
      ]
     },
     "execution_count": 22,
     "metadata": {},
     "output_type": "execute_result"
    }
   ],
   "source": [
    "accuracy_score(Y_test, pred)"
   ]
  },
  {
   "cell_type": "code",
   "execution_count": 24,
   "id": "b31d7693",
   "metadata": {},
   "outputs": [
    {
     "data": {
      "text/plain": [
       "38.0"
      ]
     },
     "execution_count": 24,
     "metadata": {},
     "output_type": "execute_result"
    }
   ],
   "source": [
    "1854 - (0.9795037756202805 * 1854)"
   ]
  }
 ],
 "metadata": {
  "kernelspec": {
   "display_name": "Python 3 (ipykernel)",
   "language": "python",
   "name": "python3"
  },
  "language_info": {
   "codemirror_mode": {
    "name": "ipython",
    "version": 3
   },
   "file_extension": ".py",
   "mimetype": "text/x-python",
   "name": "python",
   "nbconvert_exporter": "python",
   "pygments_lexer": "ipython3",
   "version": "3.9.7"
  }
 },
 "nbformat": 4,
 "nbformat_minor": 5
}
